{
 "cells": [
  {
   "cell_type": "code",
   "execution_count": 1,
   "id": "9f99e12c",
   "metadata": {},
   "outputs": [],
   "source": [
    "import numpy as np\n",
    "import pandas as pd\n",
    "import seaborn as sns"
   ]
  },
  {
   "cell_type": "markdown",
   "id": "f1604351",
   "metadata": {},
   "source": [
    "## Информация о продажах за 12 месяцев"
   ]
  },
  {
   "cell_type": "code",
   "execution_count": 2,
   "id": "c1652060",
   "metadata": {},
   "outputs": [],
   "source": [
    "data = {\n",
    "    'Сушеный кальмар': np.random.normal(190, 4, 12),\n",
    "    'Вяленый кальмар': np.random.normal(190, 5, 12),\n",
    "    'Селедка': np.random.normal(188, 3, 12),\n",
    "    'Пиво': np.random.normal(133, 5, 12),\n",
    "    'Сухарики': np.random.normal(111, 35, 12),\n",
    "    'Чипсы': np.random.normal(111, 40, 12),\n",
    "    'Водка': np.random.normal(144, 8, 12),\n",
    "    'Сигареты': np.random.normal(166, 11, 12),\n",
    "    'Виски': np.random.normal(177, 3, 12),\n",
    "    'Ром': np.random.normal(111, 16, 12),\n",
    "}"
   ]
  },
  {
   "cell_type": "code",
   "execution_count": 3,
   "id": "ce5c2e45",
   "metadata": {},
   "outputs": [
    {
     "data": {
      "text/html": [
       "<div>\n",
       "<style scoped>\n",
       "    .dataframe tbody tr th:only-of-type {\n",
       "        vertical-align: middle;\n",
       "    }\n",
       "\n",
       "    .dataframe tbody tr th {\n",
       "        vertical-align: top;\n",
       "    }\n",
       "\n",
       "    .dataframe thead th {\n",
       "        text-align: right;\n",
       "    }\n",
       "</style>\n",
       "<table border=\"1\" class=\"dataframe\">\n",
       "  <thead>\n",
       "    <tr style=\"text-align: right;\">\n",
       "      <th></th>\n",
       "      <th>Сушеный кальмар</th>\n",
       "      <th>Вяленый кальмар</th>\n",
       "      <th>Селедка</th>\n",
       "      <th>Пиво</th>\n",
       "      <th>Сухарики</th>\n",
       "      <th>Чипсы</th>\n",
       "      <th>Водка</th>\n",
       "      <th>Сигареты</th>\n",
       "      <th>Виски</th>\n",
       "      <th>Ром</th>\n",
       "    </tr>\n",
       "  </thead>\n",
       "  <tbody>\n",
       "    <tr>\n",
       "      <th>0</th>\n",
       "      <td>186.300929</td>\n",
       "      <td>193.362182</td>\n",
       "      <td>187.319873</td>\n",
       "      <td>122.745054</td>\n",
       "      <td>105.098508</td>\n",
       "      <td>50.369142</td>\n",
       "      <td>137.422456</td>\n",
       "      <td>151.856827</td>\n",
       "      <td>175.330397</td>\n",
       "      <td>94.921659</td>\n",
       "    </tr>\n",
       "    <tr>\n",
       "      <th>1</th>\n",
       "      <td>189.110015</td>\n",
       "      <td>188.669715</td>\n",
       "      <td>182.856752</td>\n",
       "      <td>139.533085</td>\n",
       "      <td>67.112086</td>\n",
       "      <td>106.460248</td>\n",
       "      <td>146.946792</td>\n",
       "      <td>171.683786</td>\n",
       "      <td>178.901241</td>\n",
       "      <td>102.402816</td>\n",
       "    </tr>\n",
       "    <tr>\n",
       "      <th>2</th>\n",
       "      <td>186.475017</td>\n",
       "      <td>187.575813</td>\n",
       "      <td>184.282767</td>\n",
       "      <td>122.354394</td>\n",
       "      <td>128.186119</td>\n",
       "      <td>131.305779</td>\n",
       "      <td>146.683029</td>\n",
       "      <td>177.538850</td>\n",
       "      <td>185.066702</td>\n",
       "      <td>129.535335</td>\n",
       "    </tr>\n",
       "    <tr>\n",
       "      <th>3</th>\n",
       "      <td>187.670357</td>\n",
       "      <td>190.441440</td>\n",
       "      <td>187.286318</td>\n",
       "      <td>127.547523</td>\n",
       "      <td>187.086279</td>\n",
       "      <td>128.480450</td>\n",
       "      <td>148.354214</td>\n",
       "      <td>167.178498</td>\n",
       "      <td>176.313425</td>\n",
       "      <td>104.854637</td>\n",
       "    </tr>\n",
       "    <tr>\n",
       "      <th>4</th>\n",
       "      <td>190.124374</td>\n",
       "      <td>196.285643</td>\n",
       "      <td>182.262370</td>\n",
       "      <td>127.998534</td>\n",
       "      <td>146.581777</td>\n",
       "      <td>117.636711</td>\n",
       "      <td>140.491348</td>\n",
       "      <td>150.314123</td>\n",
       "      <td>184.980763</td>\n",
       "      <td>146.923611</td>\n",
       "    </tr>\n",
       "    <tr>\n",
       "      <th>5</th>\n",
       "      <td>190.130943</td>\n",
       "      <td>185.793807</td>\n",
       "      <td>182.091626</td>\n",
       "      <td>137.570762</td>\n",
       "      <td>55.918319</td>\n",
       "      <td>85.918569</td>\n",
       "      <td>134.122406</td>\n",
       "      <td>159.026864</td>\n",
       "      <td>181.116073</td>\n",
       "      <td>109.704645</td>\n",
       "    </tr>\n",
       "    <tr>\n",
       "      <th>6</th>\n",
       "      <td>197.264878</td>\n",
       "      <td>184.798722</td>\n",
       "      <td>187.739398</td>\n",
       "      <td>131.863185</td>\n",
       "      <td>94.298470</td>\n",
       "      <td>103.396332</td>\n",
       "      <td>155.987016</td>\n",
       "      <td>179.355583</td>\n",
       "      <td>175.719338</td>\n",
       "      <td>96.406407</td>\n",
       "    </tr>\n",
       "    <tr>\n",
       "      <th>7</th>\n",
       "      <td>186.846894</td>\n",
       "      <td>187.389566</td>\n",
       "      <td>187.874471</td>\n",
       "      <td>133.800104</td>\n",
       "      <td>65.714120</td>\n",
       "      <td>145.221156</td>\n",
       "      <td>157.388006</td>\n",
       "      <td>174.178099</td>\n",
       "      <td>177.215695</td>\n",
       "      <td>103.009796</td>\n",
       "    </tr>\n",
       "    <tr>\n",
       "      <th>8</th>\n",
       "      <td>189.370849</td>\n",
       "      <td>201.636011</td>\n",
       "      <td>188.011447</td>\n",
       "      <td>133.159201</td>\n",
       "      <td>73.686513</td>\n",
       "      <td>101.232000</td>\n",
       "      <td>144.809666</td>\n",
       "      <td>158.912740</td>\n",
       "      <td>176.122398</td>\n",
       "      <td>108.940809</td>\n",
       "    </tr>\n",
       "    <tr>\n",
       "      <th>9</th>\n",
       "      <td>191.036625</td>\n",
       "      <td>195.620874</td>\n",
       "      <td>184.045346</td>\n",
       "      <td>135.956551</td>\n",
       "      <td>6.174320</td>\n",
       "      <td>69.258406</td>\n",
       "      <td>155.589561</td>\n",
       "      <td>169.691700</td>\n",
       "      <td>177.319164</td>\n",
       "      <td>123.427707</td>\n",
       "    </tr>\n",
       "    <tr>\n",
       "      <th>10</th>\n",
       "      <td>188.907525</td>\n",
       "      <td>195.307641</td>\n",
       "      <td>183.308541</td>\n",
       "      <td>135.321953</td>\n",
       "      <td>211.640596</td>\n",
       "      <td>133.868021</td>\n",
       "      <td>143.995251</td>\n",
       "      <td>171.554189</td>\n",
       "      <td>178.069953</td>\n",
       "      <td>116.443085</td>\n",
       "    </tr>\n",
       "    <tr>\n",
       "      <th>11</th>\n",
       "      <td>191.854063</td>\n",
       "      <td>186.034953</td>\n",
       "      <td>181.994883</td>\n",
       "      <td>133.214239</td>\n",
       "      <td>158.692666</td>\n",
       "      <td>100.844819</td>\n",
       "      <td>127.474584</td>\n",
       "      <td>159.584410</td>\n",
       "      <td>174.634497</td>\n",
       "      <td>95.350276</td>\n",
       "    </tr>\n",
       "  </tbody>\n",
       "</table>\n",
       "</div>"
      ],
      "text/plain": [
       "    Сушеный кальмар  Вяленый кальмар     Селедка        Пиво    Сухарики  \\\n",
       "0        186.300929       193.362182  187.319873  122.745054  105.098508   \n",
       "1        189.110015       188.669715  182.856752  139.533085   67.112086   \n",
       "2        186.475017       187.575813  184.282767  122.354394  128.186119   \n",
       "3        187.670357       190.441440  187.286318  127.547523  187.086279   \n",
       "4        190.124374       196.285643  182.262370  127.998534  146.581777   \n",
       "5        190.130943       185.793807  182.091626  137.570762   55.918319   \n",
       "6        197.264878       184.798722  187.739398  131.863185   94.298470   \n",
       "7        186.846894       187.389566  187.874471  133.800104   65.714120   \n",
       "8        189.370849       201.636011  188.011447  133.159201   73.686513   \n",
       "9        191.036625       195.620874  184.045346  135.956551    6.174320   \n",
       "10       188.907525       195.307641  183.308541  135.321953  211.640596   \n",
       "11       191.854063       186.034953  181.994883  133.214239  158.692666   \n",
       "\n",
       "         Чипсы       Водка    Сигареты       Виски         Ром  \n",
       "0    50.369142  137.422456  151.856827  175.330397   94.921659  \n",
       "1   106.460248  146.946792  171.683786  178.901241  102.402816  \n",
       "2   131.305779  146.683029  177.538850  185.066702  129.535335  \n",
       "3   128.480450  148.354214  167.178498  176.313425  104.854637  \n",
       "4   117.636711  140.491348  150.314123  184.980763  146.923611  \n",
       "5    85.918569  134.122406  159.026864  181.116073  109.704645  \n",
       "6   103.396332  155.987016  179.355583  175.719338   96.406407  \n",
       "7   145.221156  157.388006  174.178099  177.215695  103.009796  \n",
       "8   101.232000  144.809666  158.912740  176.122398  108.940809  \n",
       "9    69.258406  155.589561  169.691700  177.319164  123.427707  \n",
       "10  133.868021  143.995251  171.554189  178.069953  116.443085  \n",
       "11  100.844819  127.474584  159.584410  174.634497   95.350276  "
      ]
     },
     "execution_count": 3,
     "metadata": {},
     "output_type": "execute_result"
    }
   ],
   "source": [
    "df = pd.DataFrame(data)\n",
    "df"
   ]
  },
  {
   "cell_type": "markdown",
   "id": "4610f177",
   "metadata": {},
   "source": [
    "## Обработка данных"
   ]
  },
  {
   "cell_type": "code",
   "execution_count": 4,
   "id": "3c17a245",
   "metadata": {},
   "outputs": [
    {
     "ename": "TypeError",
     "evalue": "ufunc 'isfinite' not supported for the input types, and the inputs could not be safely coerced to any supported types according to the casting rule ''safe''",
     "output_type": "error",
     "traceback": [
      "\u001b[1;31m---------------------------------------------------------------------------\u001b[0m",
      "\u001b[1;31mTypeError\u001b[0m                                 Traceback (most recent call last)",
      "Cell \u001b[1;32mIn[4], line 1\u001b[0m\n\u001b[1;32m----> 1\u001b[0m ax \u001b[38;5;241m=\u001b[39m \u001b[43msns\u001b[49m\u001b[38;5;241;43m.\u001b[39;49m\u001b[43mlineplot\u001b[49m\u001b[43m(\u001b[49m\u001b[43mdf\u001b[49m\u001b[43m)\u001b[49m\n\u001b[0;32m      2\u001b[0m sns\u001b[38;5;241m.\u001b[39mmove_legend(ax, \u001b[38;5;124m\"\u001b[39m\u001b[38;5;124mupper left\u001b[39m\u001b[38;5;124m\"\u001b[39m, bbox_to_anchor\u001b[38;5;241m=\u001b[39m(\u001b[38;5;241m1\u001b[39m, \u001b[38;5;241m1\u001b[39m))\n",
      "File \u001b[1;32m~\\AppData\\Local\\Programs\\Python\\Python311\\Lib\\site-packages\\seaborn\\relational.py:645\u001b[0m, in \u001b[0;36mlineplot\u001b[1;34m(data, x, y, hue, size, style, units, palette, hue_order, hue_norm, sizes, size_order, size_norm, dashes, markers, style_order, estimator, errorbar, n_boot, seed, orient, sort, err_style, err_kws, legend, ci, ax, **kwargs)\u001b[0m\n\u001b[0;32m    642\u001b[0m color \u001b[38;5;241m=\u001b[39m kwargs\u001b[38;5;241m.\u001b[39mpop(\u001b[38;5;124m\"\u001b[39m\u001b[38;5;124mcolor\u001b[39m\u001b[38;5;124m\"\u001b[39m, kwargs\u001b[38;5;241m.\u001b[39mpop(\u001b[38;5;124m\"\u001b[39m\u001b[38;5;124mc\u001b[39m\u001b[38;5;124m\"\u001b[39m, \u001b[38;5;28;01mNone\u001b[39;00m))\n\u001b[0;32m    643\u001b[0m kwargs[\u001b[38;5;124m\"\u001b[39m\u001b[38;5;124mcolor\u001b[39m\u001b[38;5;124m\"\u001b[39m] \u001b[38;5;241m=\u001b[39m _default_color(ax\u001b[38;5;241m.\u001b[39mplot, hue, color, kwargs)\n\u001b[1;32m--> 645\u001b[0m \u001b[43mp\u001b[49m\u001b[38;5;241;43m.\u001b[39;49m\u001b[43mplot\u001b[49m\u001b[43m(\u001b[49m\u001b[43max\u001b[49m\u001b[43m,\u001b[49m\u001b[43m \u001b[49m\u001b[43mkwargs\u001b[49m\u001b[43m)\u001b[49m\n\u001b[0;32m    646\u001b[0m \u001b[38;5;28;01mreturn\u001b[39;00m ax\n",
      "File \u001b[1;32m~\\AppData\\Local\\Programs\\Python\\Python311\\Lib\\site-packages\\seaborn\\relational.py:489\u001b[0m, in \u001b[0;36m_LinePlotter.plot\u001b[1;34m(self, ax, kws)\u001b[0m\n\u001b[0;32m    486\u001b[0m \u001b[38;5;28;01mif\u001b[39;00m \u001b[38;5;28mself\u001b[39m\u001b[38;5;241m.\u001b[39merr_style \u001b[38;5;241m==\u001b[39m \u001b[38;5;124m\"\u001b[39m\u001b[38;5;124mband\u001b[39m\u001b[38;5;124m\"\u001b[39m:\n\u001b[0;32m    488\u001b[0m     func \u001b[38;5;241m=\u001b[39m {\u001b[38;5;124m\"\u001b[39m\u001b[38;5;124mx\u001b[39m\u001b[38;5;124m\"\u001b[39m: ax\u001b[38;5;241m.\u001b[39mfill_between, \u001b[38;5;124m\"\u001b[39m\u001b[38;5;124my\u001b[39m\u001b[38;5;124m\"\u001b[39m: ax\u001b[38;5;241m.\u001b[39mfill_betweenx}[orient]\n\u001b[1;32m--> 489\u001b[0m     \u001b[43mfunc\u001b[49m\u001b[43m(\u001b[49m\n\u001b[0;32m    490\u001b[0m \u001b[43m        \u001b[49m\u001b[43msub_data\u001b[49m\u001b[43m[\u001b[49m\u001b[43morient\u001b[49m\u001b[43m]\u001b[49m\u001b[43m,\u001b[49m\n\u001b[0;32m    491\u001b[0m \u001b[43m        \u001b[49m\u001b[43msub_data\u001b[49m\u001b[43m[\u001b[49m\u001b[38;5;124;43mf\u001b[39;49m\u001b[38;5;124;43m\"\u001b[39;49m\u001b[38;5;132;43;01m{\u001b[39;49;00m\u001b[43mother\u001b[49m\u001b[38;5;132;43;01m}\u001b[39;49;00m\u001b[38;5;124;43mmin\u001b[39;49m\u001b[38;5;124;43m\"\u001b[39;49m\u001b[43m]\u001b[49m\u001b[43m,\u001b[49m\u001b[43m \u001b[49m\u001b[43msub_data\u001b[49m\u001b[43m[\u001b[49m\u001b[38;5;124;43mf\u001b[39;49m\u001b[38;5;124;43m\"\u001b[39;49m\u001b[38;5;132;43;01m{\u001b[39;49;00m\u001b[43mother\u001b[49m\u001b[38;5;132;43;01m}\u001b[39;49;00m\u001b[38;5;124;43mmax\u001b[39;49m\u001b[38;5;124;43m\"\u001b[39;49m\u001b[43m]\u001b[49m\u001b[43m,\u001b[49m\n\u001b[0;32m    492\u001b[0m \u001b[43m        \u001b[49m\u001b[43mcolor\u001b[49m\u001b[38;5;241;43m=\u001b[39;49m\u001b[43mline_color\u001b[49m\u001b[43m,\u001b[49m\u001b[43m \u001b[49m\u001b[38;5;241;43m*\u001b[39;49m\u001b[38;5;241;43m*\u001b[39;49m\u001b[43merr_kws\u001b[49m\n\u001b[0;32m    493\u001b[0m \u001b[43m    \u001b[49m\u001b[43m)\u001b[49m\n\u001b[0;32m    495\u001b[0m \u001b[38;5;28;01melif\u001b[39;00m \u001b[38;5;28mself\u001b[39m\u001b[38;5;241m.\u001b[39merr_style \u001b[38;5;241m==\u001b[39m \u001b[38;5;124m\"\u001b[39m\u001b[38;5;124mbars\u001b[39m\u001b[38;5;124m\"\u001b[39m:\n\u001b[0;32m    497\u001b[0m     error_param \u001b[38;5;241m=\u001b[39m {\n\u001b[0;32m    498\u001b[0m         \u001b[38;5;124mf\u001b[39m\u001b[38;5;124m\"\u001b[39m\u001b[38;5;132;01m{\u001b[39;00mother\u001b[38;5;132;01m}\u001b[39;00m\u001b[38;5;124merr\u001b[39m\u001b[38;5;124m\"\u001b[39m: (\n\u001b[0;32m    499\u001b[0m             sub_data[other] \u001b[38;5;241m-\u001b[39m sub_data[\u001b[38;5;124mf\u001b[39m\u001b[38;5;124m\"\u001b[39m\u001b[38;5;132;01m{\u001b[39;00mother\u001b[38;5;132;01m}\u001b[39;00m\u001b[38;5;124mmin\u001b[39m\u001b[38;5;124m\"\u001b[39m],\n\u001b[0;32m    500\u001b[0m             sub_data[\u001b[38;5;124mf\u001b[39m\u001b[38;5;124m\"\u001b[39m\u001b[38;5;132;01m{\u001b[39;00mother\u001b[38;5;132;01m}\u001b[39;00m\u001b[38;5;124mmax\u001b[39m\u001b[38;5;124m\"\u001b[39m] \u001b[38;5;241m-\u001b[39m sub_data[other],\n\u001b[0;32m    501\u001b[0m         )\n\u001b[0;32m    502\u001b[0m     }\n",
      "File \u001b[1;32m~\\AppData\\Local\\Programs\\Python\\Python311\\Lib\\site-packages\\matplotlib\\__init__.py:1423\u001b[0m, in \u001b[0;36m_preprocess_data.<locals>.inner\u001b[1;34m(ax, data, *args, **kwargs)\u001b[0m\n\u001b[0;32m   1420\u001b[0m \u001b[38;5;129m@functools\u001b[39m\u001b[38;5;241m.\u001b[39mwraps(func)\n\u001b[0;32m   1421\u001b[0m \u001b[38;5;28;01mdef\u001b[39;00m \u001b[38;5;21minner\u001b[39m(ax, \u001b[38;5;241m*\u001b[39margs, data\u001b[38;5;241m=\u001b[39m\u001b[38;5;28;01mNone\u001b[39;00m, \u001b[38;5;241m*\u001b[39m\u001b[38;5;241m*\u001b[39mkwargs):\n\u001b[0;32m   1422\u001b[0m     \u001b[38;5;28;01mif\u001b[39;00m data \u001b[38;5;129;01mis\u001b[39;00m \u001b[38;5;28;01mNone\u001b[39;00m:\n\u001b[1;32m-> 1423\u001b[0m         \u001b[38;5;28;01mreturn\u001b[39;00m \u001b[43mfunc\u001b[49m\u001b[43m(\u001b[49m\u001b[43max\u001b[49m\u001b[43m,\u001b[49m\u001b[43m \u001b[49m\u001b[38;5;241;43m*\u001b[39;49m\u001b[38;5;28;43mmap\u001b[39;49m\u001b[43m(\u001b[49m\u001b[43msanitize_sequence\u001b[49m\u001b[43m,\u001b[49m\u001b[43m \u001b[49m\u001b[43margs\u001b[49m\u001b[43m)\u001b[49m\u001b[43m,\u001b[49m\u001b[43m \u001b[49m\u001b[38;5;241;43m*\u001b[39;49m\u001b[38;5;241;43m*\u001b[39;49m\u001b[43mkwargs\u001b[49m\u001b[43m)\u001b[49m\n\u001b[0;32m   1425\u001b[0m     bound \u001b[38;5;241m=\u001b[39m new_sig\u001b[38;5;241m.\u001b[39mbind(ax, \u001b[38;5;241m*\u001b[39margs, \u001b[38;5;241m*\u001b[39m\u001b[38;5;241m*\u001b[39mkwargs)\n\u001b[0;32m   1426\u001b[0m     auto_label \u001b[38;5;241m=\u001b[39m (bound\u001b[38;5;241m.\u001b[39marguments\u001b[38;5;241m.\u001b[39mget(label_namer)\n\u001b[0;32m   1427\u001b[0m                   \u001b[38;5;129;01mor\u001b[39;00m bound\u001b[38;5;241m.\u001b[39mkwargs\u001b[38;5;241m.\u001b[39mget(label_namer))\n",
      "File \u001b[1;32m~\\AppData\\Local\\Programs\\Python\\Python311\\Lib\\site-packages\\matplotlib\\axes\\_axes.py:5367\u001b[0m, in \u001b[0;36mAxes.fill_between\u001b[1;34m(self, x, y1, y2, where, interpolate, step, **kwargs)\u001b[0m\n\u001b[0;32m   5365\u001b[0m \u001b[38;5;28;01mdef\u001b[39;00m \u001b[38;5;21mfill_between\u001b[39m(\u001b[38;5;28mself\u001b[39m, x, y1, y2\u001b[38;5;241m=\u001b[39m\u001b[38;5;241m0\u001b[39m, where\u001b[38;5;241m=\u001b[39m\u001b[38;5;28;01mNone\u001b[39;00m, interpolate\u001b[38;5;241m=\u001b[39m\u001b[38;5;28;01mFalse\u001b[39;00m,\n\u001b[0;32m   5366\u001b[0m                  step\u001b[38;5;241m=\u001b[39m\u001b[38;5;28;01mNone\u001b[39;00m, \u001b[38;5;241m*\u001b[39m\u001b[38;5;241m*\u001b[39mkwargs):\n\u001b[1;32m-> 5367\u001b[0m     \u001b[38;5;28;01mreturn\u001b[39;00m \u001b[38;5;28;43mself\u001b[39;49m\u001b[38;5;241;43m.\u001b[39;49m\u001b[43m_fill_between_x_or_y\u001b[49m\u001b[43m(\u001b[49m\n\u001b[0;32m   5368\u001b[0m \u001b[43m        \u001b[49m\u001b[38;5;124;43m\"\u001b[39;49m\u001b[38;5;124;43mx\u001b[39;49m\u001b[38;5;124;43m\"\u001b[39;49m\u001b[43m,\u001b[49m\u001b[43m \u001b[49m\u001b[43mx\u001b[49m\u001b[43m,\u001b[49m\u001b[43m \u001b[49m\u001b[43my1\u001b[49m\u001b[43m,\u001b[49m\u001b[43m \u001b[49m\u001b[43my2\u001b[49m\u001b[43m,\u001b[49m\n\u001b[0;32m   5369\u001b[0m \u001b[43m        \u001b[49m\u001b[43mwhere\u001b[49m\u001b[38;5;241;43m=\u001b[39;49m\u001b[43mwhere\u001b[49m\u001b[43m,\u001b[49m\u001b[43m \u001b[49m\u001b[43minterpolate\u001b[49m\u001b[38;5;241;43m=\u001b[39;49m\u001b[43minterpolate\u001b[49m\u001b[43m,\u001b[49m\u001b[43m \u001b[49m\u001b[43mstep\u001b[49m\u001b[38;5;241;43m=\u001b[39;49m\u001b[43mstep\u001b[49m\u001b[43m,\u001b[49m\u001b[43m \u001b[49m\u001b[38;5;241;43m*\u001b[39;49m\u001b[38;5;241;43m*\u001b[39;49m\u001b[43mkwargs\u001b[49m\u001b[43m)\u001b[49m\n",
      "File \u001b[1;32m~\\AppData\\Local\\Programs\\Python\\Python311\\Lib\\site-packages\\matplotlib\\axes\\_axes.py:5272\u001b[0m, in \u001b[0;36mAxes._fill_between_x_or_y\u001b[1;34m(self, ind_dir, ind, dep1, dep2, where, interpolate, step, **kwargs)\u001b[0m\n\u001b[0;32m   5268\u001b[0m         kwargs[\u001b[38;5;124m\"\u001b[39m\u001b[38;5;124mfacecolor\u001b[39m\u001b[38;5;124m\"\u001b[39m] \u001b[38;5;241m=\u001b[39m \\\n\u001b[0;32m   5269\u001b[0m             \u001b[38;5;28mself\u001b[39m\u001b[38;5;241m.\u001b[39m_get_patches_for_fill\u001b[38;5;241m.\u001b[39mget_next_color()\n\u001b[0;32m   5271\u001b[0m \u001b[38;5;66;03m# Handle united data, such as dates\u001b[39;00m\n\u001b[1;32m-> 5272\u001b[0m ind, dep1, dep2 \u001b[38;5;241m=\u001b[39m \u001b[38;5;28mmap\u001b[39m(\n\u001b[0;32m   5273\u001b[0m     ma\u001b[38;5;241m.\u001b[39mmasked_invalid, \u001b[38;5;28mself\u001b[39m\u001b[38;5;241m.\u001b[39m_process_unit_info(\n\u001b[0;32m   5274\u001b[0m         [(ind_dir, ind), (dep_dir, dep1), (dep_dir, dep2)], kwargs))\n\u001b[0;32m   5276\u001b[0m \u001b[38;5;28;01mfor\u001b[39;00m name, array \u001b[38;5;129;01min\u001b[39;00m [\n\u001b[0;32m   5277\u001b[0m         (ind_dir, ind), (\u001b[38;5;124mf\u001b[39m\u001b[38;5;124m\"\u001b[39m\u001b[38;5;132;01m{\u001b[39;00mdep_dir\u001b[38;5;132;01m}\u001b[39;00m\u001b[38;5;124m1\u001b[39m\u001b[38;5;124m\"\u001b[39m, dep1), (\u001b[38;5;124mf\u001b[39m\u001b[38;5;124m\"\u001b[39m\u001b[38;5;132;01m{\u001b[39;00mdep_dir\u001b[38;5;132;01m}\u001b[39;00m\u001b[38;5;124m2\u001b[39m\u001b[38;5;124m\"\u001b[39m, dep2)]:\n\u001b[0;32m   5278\u001b[0m     \u001b[38;5;28;01mif\u001b[39;00m array\u001b[38;5;241m.\u001b[39mndim \u001b[38;5;241m>\u001b[39m \u001b[38;5;241m1\u001b[39m:\n",
      "File \u001b[1;32m~\\AppData\\Local\\Programs\\Python\\Python311\\Lib\\site-packages\\numpy\\ma\\core.py:2360\u001b[0m, in \u001b[0;36mmasked_invalid\u001b[1;34m(a, copy)\u001b[0m\n\u001b[0;32m   2332\u001b[0m \u001b[38;5;28;01mdef\u001b[39;00m \u001b[38;5;21mmasked_invalid\u001b[39m(a, copy\u001b[38;5;241m=\u001b[39m\u001b[38;5;28;01mTrue\u001b[39;00m):\n\u001b[0;32m   2333\u001b[0m     \u001b[38;5;124;03m\"\"\"\u001b[39;00m\n\u001b[0;32m   2334\u001b[0m \u001b[38;5;124;03m    Mask an array where invalid values occur (NaNs or infs).\u001b[39;00m\n\u001b[0;32m   2335\u001b[0m \n\u001b[1;32m   (...)\u001b[0m\n\u001b[0;32m   2357\u001b[0m \n\u001b[0;32m   2358\u001b[0m \u001b[38;5;124;03m    \"\"\"\u001b[39;00m\n\u001b[1;32m-> 2360\u001b[0m     \u001b[38;5;28;01mreturn\u001b[39;00m masked_where(\u001b[38;5;241m~\u001b[39m(\u001b[43mnp\u001b[49m\u001b[38;5;241;43m.\u001b[39;49m\u001b[43misfinite\u001b[49m\u001b[43m(\u001b[49m\u001b[43mgetdata\u001b[49m\u001b[43m(\u001b[49m\u001b[43ma\u001b[49m\u001b[43m)\u001b[49m\u001b[43m)\u001b[49m), a, copy\u001b[38;5;241m=\u001b[39mcopy)\n",
      "\u001b[1;31mTypeError\u001b[0m: ufunc 'isfinite' not supported for the input types, and the inputs could not be safely coerced to any supported types according to the casting rule ''safe''"
     ]
    },
    {
     "data": {
      "image/png": "[encoded data removed]",
      "text/plain": [
       "<Figure size 640x480 with 1 Axes>"
      ]
     },
     "metadata": {},
     "output_type": "display_data"
    }
   ],
   "source": [
    "ax = sns.lineplot(df)\n",
    "sns.move_legend(ax, \"upper left\", bbox_to_anchor=(1, 1))"
   ]
  },
  {
   "cell_type": "code",
   "execution_count": 5,
   "id": "98b8f555",
   "metadata": {},
   "outputs": [
    {
     "data": {
      "text/plain": [
       "Сушеный кальмар    189.591039\n",
       "Вяленый кальмар    191.076364\n",
       "Селедка            184.922816\n",
       "Пиво               131.755382\n",
       "Сухарики           108.349148\n",
       "Чипсы              106.165969\n",
       "Водка              144.938694\n",
       "Сигареты           165.906306\n",
       "Виски              178.399137\n",
       "Ром                110.993399\n",
       "dtype: float64"
      ]
     },
     "execution_count": 5,
     "metadata": {},
     "output_type": "execute_result"
    }
   ],
   "source": [
    "p0 = df.sum() / df.shape[0]\n",
    "p0"
   ]
  },
  {
   "cell_type": "code",
   "execution_count": 13,
   "id": "21c5d8e6",
   "metadata": {},
   "outputs": [
    {
     "data": {
      "text/plain": [
       "Сушеный кальмар     3.002659\n",
       "Вяленый кальмар     5.284587\n",
       "Селедка             2.508850\n",
       "Пиво                5.513270\n",
       "Сухарики           59.829138\n",
       "Чипсы              27.798075\n",
       "Водка               9.087451\n",
       "Сигареты            9.735382\n",
       "Виски               3.546933\n",
       "Ром                15.713276\n",
       "dtype: float64"
      ]
     },
     "execution_count": 13,
     "metadata": {},
     "output_type": "execute_result"
    }
   ],
   "source": [
    "std = ((df - p0) ** 2).sum() / (df.shape[0] - 1)\n",
    "std = std ** (1 / 2)\n",
    "std"
   ]
  },
  {
   "cell_type": "code",
   "execution_count": 7,
   "id": "98942088",
   "metadata": {},
   "outputs": [
    {
     "data": {
      "text/html": [
       "<div>\n",
       "<style scoped>\n",
       "    .dataframe tbody tr th:only-of-type {\n",
       "        vertical-align: middle;\n",
       "    }\n",
       "\n",
       "    .dataframe tbody tr th {\n",
       "        vertical-align: top;\n",
       "    }\n",
       "\n",
       "    .dataframe thead th {\n",
       "        text-align: right;\n",
       "    }\n",
       "</style>\n",
       "<table border=\"1\" class=\"dataframe\">\n",
       "  <thead>\n",
       "    <tr style=\"text-align: right;\">\n",
       "      <th></th>\n",
       "      <th>Сушеный кальмар</th>\n",
       "      <th>Вяленый кальмар</th>\n",
       "      <th>Селедка</th>\n",
       "      <th>Пиво</th>\n",
       "      <th>Сухарики</th>\n",
       "      <th>Чипсы</th>\n",
       "      <th>Водка</th>\n",
       "      <th>Сигареты</th>\n",
       "      <th>Виски</th>\n",
       "      <th>Ром</th>\n",
       "    </tr>\n",
       "  </thead>\n",
       "  <tbody>\n",
       "    <tr>\n",
       "      <th>0</th>\n",
       "      <td>186.300929</td>\n",
       "      <td>193.362182</td>\n",
       "      <td>187.319873</td>\n",
       "      <td>122.745054</td>\n",
       "      <td>105.098508</td>\n",
       "      <td>50.369142</td>\n",
       "      <td>137.422456</td>\n",
       "      <td>151.856827</td>\n",
       "      <td>175.330397</td>\n",
       "      <td>94.921659</td>\n",
       "    </tr>\n",
       "    <tr>\n",
       "      <th>1</th>\n",
       "      <td>189.110015</td>\n",
       "      <td>188.669715</td>\n",
       "      <td>182.856752</td>\n",
       "      <td>139.533085</td>\n",
       "      <td>67.112086</td>\n",
       "      <td>106.460248</td>\n",
       "      <td>146.946792</td>\n",
       "      <td>171.683786</td>\n",
       "      <td>178.901241</td>\n",
       "      <td>102.402816</td>\n",
       "    </tr>\n",
       "    <tr>\n",
       "      <th>2</th>\n",
       "      <td>186.475017</td>\n",
       "      <td>187.575813</td>\n",
       "      <td>184.282767</td>\n",
       "      <td>122.354394</td>\n",
       "      <td>128.186119</td>\n",
       "      <td>131.305779</td>\n",
       "      <td>146.683029</td>\n",
       "      <td>177.538850</td>\n",
       "      <td>185.066702</td>\n",
       "      <td>129.535335</td>\n",
       "    </tr>\n",
       "    <tr>\n",
       "      <th>3</th>\n",
       "      <td>187.670357</td>\n",
       "      <td>190.441440</td>\n",
       "      <td>187.286318</td>\n",
       "      <td>127.547523</td>\n",
       "      <td>187.086279</td>\n",
       "      <td>128.480450</td>\n",
       "      <td>148.354214</td>\n",
       "      <td>167.178498</td>\n",
       "      <td>176.313425</td>\n",
       "      <td>104.854637</td>\n",
       "    </tr>\n",
       "    <tr>\n",
       "      <th>4</th>\n",
       "      <td>190.124374</td>\n",
       "      <td>196.285643</td>\n",
       "      <td>182.262370</td>\n",
       "      <td>127.998534</td>\n",
       "      <td>146.581777</td>\n",
       "      <td>117.636711</td>\n",
       "      <td>140.491348</td>\n",
       "      <td>150.314123</td>\n",
       "      <td>184.980763</td>\n",
       "      <td>146.923611</td>\n",
       "    </tr>\n",
       "    <tr>\n",
       "      <th>5</th>\n",
       "      <td>190.130943</td>\n",
       "      <td>185.793807</td>\n",
       "      <td>182.091626</td>\n",
       "      <td>137.570762</td>\n",
       "      <td>55.918319</td>\n",
       "      <td>85.918569</td>\n",
       "      <td>134.122406</td>\n",
       "      <td>159.026864</td>\n",
       "      <td>181.116073</td>\n",
       "      <td>109.704645</td>\n",
       "    </tr>\n",
       "    <tr>\n",
       "      <th>6</th>\n",
       "      <td>197.264878</td>\n",
       "      <td>184.798722</td>\n",
       "      <td>187.739398</td>\n",
       "      <td>131.863185</td>\n",
       "      <td>94.298470</td>\n",
       "      <td>103.396332</td>\n",
       "      <td>155.987016</td>\n",
       "      <td>179.355583</td>\n",
       "      <td>175.719338</td>\n",
       "      <td>96.406407</td>\n",
       "    </tr>\n",
       "    <tr>\n",
       "      <th>7</th>\n",
       "      <td>186.846894</td>\n",
       "      <td>187.389566</td>\n",
       "      <td>187.874471</td>\n",
       "      <td>133.800104</td>\n",
       "      <td>65.714120</td>\n",
       "      <td>145.221156</td>\n",
       "      <td>157.388006</td>\n",
       "      <td>174.178099</td>\n",
       "      <td>177.215695</td>\n",
       "      <td>103.009796</td>\n",
       "    </tr>\n",
       "    <tr>\n",
       "      <th>8</th>\n",
       "      <td>189.370849</td>\n",
       "      <td>201.636011</td>\n",
       "      <td>188.011447</td>\n",
       "      <td>133.159201</td>\n",
       "      <td>73.686513</td>\n",
       "      <td>101.232000</td>\n",
       "      <td>144.809666</td>\n",
       "      <td>158.912740</td>\n",
       "      <td>176.122398</td>\n",
       "      <td>108.940809</td>\n",
       "    </tr>\n",
       "    <tr>\n",
       "      <th>9</th>\n",
       "      <td>191.036625</td>\n",
       "      <td>195.620874</td>\n",
       "      <td>184.045346</td>\n",
       "      <td>135.956551</td>\n",
       "      <td>6.174320</td>\n",
       "      <td>69.258406</td>\n",
       "      <td>155.589561</td>\n",
       "      <td>169.691700</td>\n",
       "      <td>177.319164</td>\n",
       "      <td>123.427707</td>\n",
       "    </tr>\n",
       "    <tr>\n",
       "      <th>10</th>\n",
       "      <td>188.907525</td>\n",
       "      <td>195.307641</td>\n",
       "      <td>183.308541</td>\n",
       "      <td>135.321953</td>\n",
       "      <td>211.640596</td>\n",
       "      <td>133.868021</td>\n",
       "      <td>143.995251</td>\n",
       "      <td>171.554189</td>\n",
       "      <td>178.069953</td>\n",
       "      <td>116.443085</td>\n",
       "    </tr>\n",
       "    <tr>\n",
       "      <th>11</th>\n",
       "      <td>191.854063</td>\n",
       "      <td>186.034953</td>\n",
       "      <td>181.994883</td>\n",
       "      <td>133.214239</td>\n",
       "      <td>158.692666</td>\n",
       "      <td>100.844819</td>\n",
       "      <td>127.474584</td>\n",
       "      <td>159.584410</td>\n",
       "      <td>174.634497</td>\n",
       "      <td>95.350276</td>\n",
       "    </tr>\n",
       "    <tr>\n",
       "      <th>12</th>\n",
       "      <td>192.617681</td>\n",
       "      <td>204.198906</td>\n",
       "      <td>181.694657</td>\n",
       "      <td>144.219919</td>\n",
       "      <td>158.139825</td>\n",
       "      <td>76.604602</td>\n",
       "      <td>144.987573</td>\n",
       "      <td>158.980912</td>\n",
       "      <td>175.371188</td>\n",
       "      <td>119.182452</td>\n",
       "    </tr>\n",
       "  </tbody>\n",
       "</table>\n",
       "</div>"
      ],
      "text/plain": [
       "    Сушеный кальмар  Вяленый кальмар     Селедка        Пиво    Сухарики  \\\n",
       "0        186.300929       193.362182  187.319873  122.745054  105.098508   \n",
       "1        189.110015       188.669715  182.856752  139.533085   67.112086   \n",
       "2        186.475017       187.575813  184.282767  122.354394  128.186119   \n",
       "3        187.670357       190.441440  187.286318  127.547523  187.086279   \n",
       "4        190.124374       196.285643  182.262370  127.998534  146.581777   \n",
       "5        190.130943       185.793807  182.091626  137.570762   55.918319   \n",
       "6        197.264878       184.798722  187.739398  131.863185   94.298470   \n",
       "7        186.846894       187.389566  187.874471  133.800104   65.714120   \n",
       "8        189.370849       201.636011  188.011447  133.159201   73.686513   \n",
       "9        191.036625       195.620874  184.045346  135.956551    6.174320   \n",
       "10       188.907525       195.307641  183.308541  135.321953  211.640596   \n",
       "11       191.854063       186.034953  181.994883  133.214239  158.692666   \n",
       "12       192.617681       204.198906  181.694657  144.219919  158.139825   \n",
       "\n",
       "         Чипсы       Водка    Сигареты       Виски         Ром  \n",
       "0    50.369142  137.422456  151.856827  175.330397   94.921659  \n",
       "1   106.460248  146.946792  171.683786  178.901241  102.402816  \n",
       "2   131.305779  146.683029  177.538850  185.066702  129.535335  \n",
       "3   128.480450  148.354214  167.178498  176.313425  104.854637  \n",
       "4   117.636711  140.491348  150.314123  184.980763  146.923611  \n",
       "5    85.918569  134.122406  159.026864  181.116073  109.704645  \n",
       "6   103.396332  155.987016  179.355583  175.719338   96.406407  \n",
       "7   145.221156  157.388006  174.178099  177.215695  103.009796  \n",
       "8   101.232000  144.809666  158.912740  176.122398  108.940809  \n",
       "9    69.258406  155.589561  169.691700  177.319164  123.427707  \n",
       "10  133.868021  143.995251  171.554189  178.069953  116.443085  \n",
       "11  100.844819  127.474584  159.584410  174.634497   95.350276  \n",
       "12   76.604602  144.987573  158.980912  175.371188  119.182452  "
      ]
     },
     "execution_count": 7,
     "metadata": {},
     "output_type": "execute_result"
    }
   ],
   "source": [
    "x_extrapol = p0 + np.random.normal(0, std, len(p0))\n",
    "pd.concat([df, pd.DataFrame([x_extrapol], columns=x_extrapol.index)]).reset_index(drop=True)"
   ]
  },
  {
   "cell_type": "markdown",
   "id": "ec0b18b1",
   "metadata": {},
   "source": [
    "## Оценки"
   ]
  },
  {
   "cell_type": "code",
   "execution_count": 8,
   "id": "c78418c9",
   "metadata": {},
   "outputs": [
    {
     "data": {
      "text/plain": [
       "Сушеный кальмар    0.015838\n",
       "Вяленый кальмар    0.027657\n",
       "Селедка            0.013567\n",
       "Пиво               0.041845\n",
       "Сухарики           0.552188\n",
       "Чипсы              0.261836\n",
       "Водка              0.062699\n",
       "Сигареты           0.058680\n",
       "Виски              0.019882\n",
       "Ром                0.141569\n",
       "dtype: float64"
      ]
     },
     "execution_count": 8,
     "metadata": {},
     "output_type": "execute_result"
    }
   ],
   "source": [
    "reliability = std / p0\n",
    "reliability"
   ]
  },
  {
   "cell_type": "markdown",
   "id": "c06c0619",
   "metadata": {},
   "source": [
    "### Уловие 1 $ X_i - \\hat{p_0} < 2\\hat{\\sigma}: \\forall i$"
   ]
  },
  {
   "cell_type": "code",
   "execution_count": 9,
   "id": "12aa0c37",
   "metadata": {},
   "outputs": [
    {
     "data": {
      "text/plain": [
       "Сушеный кальмар    False\n",
       "Вяленый кальмар     True\n",
       "Селедка             True\n",
       "Пиво                True\n",
       "Сухарики            True\n",
       "Чипсы               True\n",
       "Водка               True\n",
       "Сигареты            True\n",
       "Виски               True\n",
       "Ром                False\n",
       "dtype: bool"
      ]
     },
     "execution_count": 9,
     "metadata": {},
     "output_type": "execute_result"
    }
   ],
   "source": [
    "cond1 = ((df - p0) < 2 * std).all()\n",
    "cond1"
   ]
  },
  {
   "cell_type": "markdown",
   "id": "2fae833b",
   "metadata": {},
   "source": [
    "### Условие 2 $ \\hat{p_0} > 2\\hat{\\sigma} $"
   ]
  },
  {
   "cell_type": "code",
   "execution_count": 10,
   "id": "1dbdcb38",
   "metadata": {},
   "outputs": [
    {
     "data": {
      "text/plain": [
       "Сушеный кальмар     True\n",
       "Вяленый кальмар     True\n",
       "Селедка             True\n",
       "Пиво                True\n",
       "Сухарики           False\n",
       "Чипсы               True\n",
       "Водка               True\n",
       "Сигареты            True\n",
       "Виски               True\n",
       "Ром                 True\n",
       "dtype: bool"
      ]
     },
     "execution_count": 10,
     "metadata": {},
     "output_type": "execute_result"
    }
   ],
   "source": [
    "cond2 = p0 > 2 * std\n",
    "cond2"
   ]
  },
  {
   "cell_type": "markdown",
   "id": "c656ab05",
   "metadata": {},
   "source": [
    "### Условие 3 $ X_i > 0: \\forall i $"
   ]
  },
  {
   "cell_type": "code",
   "execution_count": 11,
   "id": "f82cc21c",
   "metadata": {
    "scrolled": true
   },
   "outputs": [
    {
     "data": {
      "text/plain": [
       "Сушеный кальмар    True\n",
       "Вяленый кальмар    True\n",
       "Селедка            True\n",
       "Пиво               True\n",
       "Сухарики           True\n",
       "Чипсы              True\n",
       "Водка              True\n",
       "Сигареты           True\n",
       "Виски              True\n",
       "Ром                True\n",
       "dtype: bool"
      ]
     },
     "execution_count": 11,
     "metadata": {},
     "output_type": "execute_result"
    }
   ],
   "source": [
    "cond3 = (df > 0).all()\n",
    "cond3"
   ]
  },
  {
   "cell_type": "markdown",
   "id": "22489c58",
   "metadata": {},
   "source": [
    "### Цветовая классификация"
   ]
  },
  {
   "cell_type": "code",
   "execution_count": 12,
   "id": "10d9b9ec",
   "metadata": {},
   "outputs": [
    {
     "data": {
      "text/plain": [
       "Сушеный кальмар     Желтый\n",
       "Вяленый кальмар    Зеленый\n",
       "Селедка            Зеленый\n",
       "Пиво               Зеленый\n",
       "Сухарики            Желтый\n",
       "Чипсы              Зеленый\n",
       "Водка              Зеленый\n",
       "Сигареты           Зеленый\n",
       "Виски              Зеленый\n",
       "Ром                 Желтый\n",
       "dtype: object"
      ]
     },
     "execution_count": 12,
     "metadata": {},
     "output_type": "execute_result"
    }
   ],
   "source": [
    "product_color = pd.Series(dtype='string')\n",
    "for name in df.columns:\n",
    "    if (not cond3[name]):\n",
    "        product_color[name] = 'Красный'\n",
    "    elif (not cond1[name] and not cond2[name]):\n",
    "        product_color[name] = 'Оранжевый'\n",
    "    elif (not cond1[name] or not cond2[name]):\n",
    "        product_color[name] = 'Желтый'\n",
    "    else:\n",
    "        product_color[name] = 'Зеленый'\n",
    "product_color"
   ]
  },
  {
   "cell_type": "code",
   "execution_count": null,
   "id": "e5513504",
   "metadata": {},
   "outputs": [],
   "source": []
  },
  {
   "cell_type": "code",
   "execution_count": null,
   "id": "ce8284e2",
   "metadata": {},
   "outputs": [],
   "source": []
  }
 ],
 "metadata": {
  "kernelspec": {
   "display_name": "Python 3 (ipykernel)",
   "language": "python",
   "name": "python3"
  },
  "language_info": {
   "codemirror_mode": {
    "name": "ipython",
    "version": 3
   },
   "file_extension": ".py",
   "mimetype": "text/x-python",
   "name": "python",
   "nbconvert_exporter": "python",
   "pygments_lexer": "ipython3",
   "version": "3.11.1"
  }
 },
 "nbformat": 4,
 "nbformat_minor": 5
}
